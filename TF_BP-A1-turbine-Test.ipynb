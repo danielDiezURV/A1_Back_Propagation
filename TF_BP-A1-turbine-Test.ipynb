{
 "cells": [
  {
   "cell_type": "code",
   "execution_count": null,
   "metadata": {},
   "outputs": [],
   "source": [
    "###··· TURBINE DATASET ···### \n",
    "# Part 1: Selecting and analyzing the dataset\n",
    "import pandas as pd\n",
    "import numpy as np\n",
    "from sklearn.preprocessing import MinMaxScaler\n",
    "from sklearn.model_selection import train_test_split\n",
    "\n",
    "\n",
    "#Load the dataset\n",
    "turbine_dataset = pd.read_csv(\"A1-turbine.txt\", sep='\\t', header=0)\n",
    "x = turbine_dataset[['#height_over_sea_level', 'fall', 'net_fall', 'flow']] \n",
    "y = turbine_dataset[[\"power_of_hydroelectrical_turbine\"]]\n",
    "#Scale the data\n",
    "scaler = MinMaxScaler()\n",
    "x_scaled = scaler.fit_transform(x)\n",
    "y_scaled = scaler.fit_transform(y)\n",
    "#Split the data\n",
    "x_train, x_test, y_train, y_test = train_test_split(x_scaled, y_scaled, test_size=0.15, shuffle=True)\n"
   ]
  },
  {
   "cell_type": "code",
   "execution_count": null,
   "metadata": {},
   "outputs": [],
   "source": [
    "# Part 2: Implementation of NN\n",
    "from tensorflow import keras as keras\n",
    "from matplotlib import pyplot as plt\n",
    "\n",
    "model = keras.models.Sequential([\n",
    "    keras.layers.Dense(4, input_shape=(x_train.shape[1],) ,activation='relu'),\n",
    "    keras.layers.Dense(9, activation='relu'),\n",
    "    keras.layers.Dense(5, activation='relu'),\n",
    "    keras.layers.Dense(1)\n",
    "])\n",
    "sgd = keras.optimizers.SGD(learning_rate=0.05, momentum=0.005)\n",
    "model.compile(loss='mse', metrics=['mae'],optimizer=sgd)\n",
    "history = model.fit(x_train, y_train, epochs=100, validation_data=(x_test, y_test))\n",
    "\n",
    "# Plot training & validation loss values\n",
    "plt.plot(history.history['loss'])\n",
    "plt.plot(history.history['val_loss'])\n",
    "plt.title('Model loss')\n",
    "plt.ylabel('Loss')\n",
    "plt.xlabel('Epoch')\n",
    "plt.legend(['Train', 'Validation'], loc='upper right')\n",
    "plt.show()\n"
   ]
  },
  {
   "cell_type": "code",
   "execution_count": null,
   "metadata": {},
   "outputs": [],
   "source": [
    "from sklearn.metrics import *\n",
    "from matplotlib import pyplot as plt\n",
    "\n",
    "\n",
    "# Part 3: Obtaining predictions\n",
    "y_pred_test = model.predict(x_test)\n",
    "y_pred_train = model.predict(x_train)\n",
    "\n",
    "print(\"---Test---\")\n",
    "print(\"R2 Score: \", r2_score(y_test, y_pred_test))\n",
    "print(\"MSE: \", mean_squared_error(y_test, y_pred_test))\n",
    "print(\"MAE: \", mean_absolute_error(y_test, y_pred_test))\n",
    "print(\"---Train---\")\n",
    "print(\"R2 Score: \", r2_score(y_train, y_pred_train))\n",
    "print(\"MSE: \", mean_squared_error(y_train, y_pred_train))\n",
    "print(\"MAE: \", mean_absolute_error(y_train, y_pred_train))\n",
    "print(\"\")\n",
    "print(\"MAPE: \", mean_absolute_percentage_error(y_test, y_pred_test))\n",
    "\n",
    "y_test_unscaled = scaler.inverse_transform(y_test)\n",
    "y_pred_test_unscaled = scaler.inverse_transform(y_pred_test)\n",
    "y_train_unscaled = scaler.inverse_transform(y_train)\n",
    "y_pred_train_unscaled = scaler.inverse_transform(y_pred_train)\n",
    "\n",
    "plt.scatter(y_train_unscaled, y_pred_train_unscaled, color=\"blue\", label=\"Train\")\n",
    "plt.scatter(y_test_unscaled, y_pred_test_unscaled, color=\"red\", label=\"Test\")\n",
    "plt.xlabel(\"actual Values\")\n",
    "plt.ylabel(\"Predition Values\")\n",
    "plt.title(\"Actual vs Prediction\")\n",
    "plt.plot(y, y, \"--\",color=\"black\")\n",
    "plt.legend()\n",
    "plt.show()"
   ]
  }
 ],
 "metadata": {
  "kernelspec": {
   "display_name": "Python 3",
   "language": "python",
   "name": "python3"
  },
  "language_info": {
   "codemirror_mode": {
    "name": "ipython",
    "version": 3
   },
   "file_extension": ".py",
   "mimetype": "text/x-python",
   "name": "python",
   "nbconvert_exporter": "python",
   "pygments_lexer": "ipython3",
   "version": "3.11.6"
  }
 },
 "nbformat": 4,
 "nbformat_minor": 2
}
