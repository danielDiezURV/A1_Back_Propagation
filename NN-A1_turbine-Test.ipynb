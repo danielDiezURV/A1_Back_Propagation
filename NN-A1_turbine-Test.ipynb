{
 "cells": [
  {
   "cell_type": "code",
   "execution_count": 2,
   "metadata": {},
   "outputs": [
    {
     "ename": "IndexError",
     "evalue": "list index out of range",
     "output_type": "error",
     "traceback": [
      "\u001b[1;31m---------------------------------------------------------------------------\u001b[0m",
      "\u001b[1;31mIndexError\u001b[0m                                Traceback (most recent call last)",
      "\u001b[1;32mc:\\Users\\danid\\Desktop\\NEC\\A1_Back_Propagation\\NN-A1_turbine-Test.ipynb Cell 1\u001b[0m line \u001b[0;36m2\n\u001b[0;32m     <a href='vscode-notebook-cell:/c%3A/Users/danid/Desktop/NEC/A1_Back_Propagation/NN-A1_turbine-Test.ipynb#W0sZmlsZQ%3D%3D?line=17'>18</a>\u001b[0m x_train, x_test, y_train, y_test \u001b[39m=\u001b[39m train_test_split(x_scaled, y_scaled, test_size\u001b[39m=\u001b[39m\u001b[39m0.15\u001b[39m, shuffle\u001b[39m=\u001b[39m\u001b[39mTrue\u001b[39;00m)\n\u001b[0;32m     <a href='vscode-notebook-cell:/c%3A/Users/danid/Desktop/NEC/A1_Back_Propagation/NN-A1_turbine-Test.ipynb#W0sZmlsZQ%3D%3D?line=19'>20</a>\u001b[0m nn \u001b[39m=\u001b[39m MyNeuralNetwork(layers\u001b[39m=\u001b[39m[x_train\u001b[39m.\u001b[39mshape[\u001b[39m1\u001b[39m],\u001b[39m9\u001b[39m,\u001b[39m5\u001b[39m,\u001b[39m1\u001b[39m], nEpochs\u001b[39m=\u001b[39m\u001b[39m100\u001b[39m, learning_rate\u001b[39m=\u001b[39m\u001b[39m0.05\u001b[39m, momentum\u001b[39m=\u001b[39m\u001b[39m0.005\u001b[39m, activation\u001b[39m=\u001b[39m\u001b[39m'\u001b[39m\u001b[39mrelu\u001b[39m\u001b[39m'\u001b[39m, validation_set\u001b[39m=\u001b[39m\u001b[39m0.15\u001b[39m)\n\u001b[1;32m---> <a href='vscode-notebook-cell:/c%3A/Users/danid/Desktop/NEC/A1_Back_Propagation/NN-A1_turbine-Test.ipynb#W0sZmlsZQ%3D%3D?line=20'>21</a>\u001b[0m nn\u001b[39m.\u001b[39;49mfit(x_train, y_train)\n",
      "File \u001b[1;32mc:\\Users\\danid\\Desktop\\NEC\\A1_Back_Propagation\\MyNeuralNetwork.py:63\u001b[0m, in \u001b[0;36mMyNeuralNetwork.fit\u001b[1;34m(self, x, y)\u001b[0m\n\u001b[0;32m     61\u001b[0m \u001b[39mfor\u001b[39;00m epoch \u001b[39min\u001b[39;00m \u001b[39mrange\u001b[39m(\u001b[39mself\u001b[39m\u001b[39m.\u001b[39mnEpochs):\n\u001b[0;32m     62\u001b[0m   \u001b[39mfor\u001b[39;00m i \u001b[39min\u001b[39;00m np\u001b[39m.\u001b[39mrandom\u001b[39m.\u001b[39mpermutation(\u001b[39mlen\u001b[39m(x)):                     \u001b[39m# for each random pattern xµ in the training set\u001b[39;00m\n\u001b[1;32m---> 63\u001b[0m     x_pred \u001b[39m=\u001b[39m \u001b[39mself\u001b[39;49m\u001b[39m.\u001b[39;49mfeedForward(x\u001b[39m.\u001b[39;49mvalues[i])\n",
      "File \u001b[1;32mc:\\Users\\danid\\Desktop\\NEC\\A1_Back_Propagation\\MyNeuralNetwork.py:87\u001b[0m, in \u001b[0;36mMyNeuralNetwork.feedForward\u001b[1;34m(self, x)\u001b[0m\n\u001b[0;32m     85\u001b[0m     \u001b[39mself\u001b[39m\u001b[39m.\u001b[39mxi[l\u001b[39m+\u001b[39m\u001b[39m1\u001b[39m][i] \u001b[39m=\u001b[39m \u001b[39mself\u001b[39m\u001b[39m.\u001b[39mactivation(\u001b[39mself\u001b[39m\u001b[39m.\u001b[39mh[l][i])\n\u001b[0;32m     86\u001b[0m \u001b[39m# Return output layer\u001b[39;00m\n\u001b[1;32m---> 87\u001b[0m \u001b[39mreturn\u001b[39;00m \u001b[39mself\u001b[39;49m\u001b[39m.\u001b[39;49mxi[\u001b[39mself\u001b[39;49m\u001b[39m.\u001b[39;49mL\u001b[39m+\u001b[39;49m\u001b[39m1\u001b[39;49m]\n",
      "\u001b[1;31mIndexError\u001b[0m: list index out of range"
     ]
    }
   ],
   "source": [
    "###··· TURBINE DATASET ···### \n",
    "# Part 1: Selecting and analyzing the dataset\n",
    "import pandas as pd\n",
    "import numpy as np\n",
    "from DataPreprocessing import DataPreprocessing\n",
    "from sklearn.model_selection import train_test_split\n",
    "from MyNeuralNetwork import MyNeuralNetwork\n",
    "\n",
    "#Load the dataset\n",
    "turbine_dataset = pd.read_csv(\"A1-turbine.txt\", sep='\\t', header=0)\n",
    "x = turbine_dataset[['#height_over_sea_level', 'fall', 'net_fall', 'flow']] \n",
    "y = turbine_dataset[[\"power_of_hydroelectrical_turbine\"]]\n",
    "#Scale the data\n",
    "preprocessor = DataPreprocessing()\n",
    "x_scaled = preprocessor.scale(x, 0, 1)\n",
    "y_scaled = preprocessor.scale(y, 0, 1)\n",
    "#Split the data\n",
    "x_train, x_test, y_train, y_test = train_test_split(x_scaled, y_scaled, test_size=0.15, shuffle=True)\n",
    "\n",
    "nn = MyNeuralNetwork(layers=[x_train.shape[1],9,5,1], nEpochs=100, learning_rate=0.05, momentum=0.005, activation='relu', validation_set=0.15)\n",
    "nn.fit(x_train, y_train)\n"
   ]
  }
 ],
 "metadata": {
  "kernelspec": {
   "display_name": "Python 3",
   "language": "python",
   "name": "python3"
  },
  "language_info": {
   "codemirror_mode": {
    "name": "ipython",
    "version": 3
   },
   "file_extension": ".py",
   "mimetype": "text/x-python",
   "name": "python",
   "nbconvert_exporter": "python",
   "pygments_lexer": "ipython3",
   "version": "3.11.6"
  }
 },
 "nbformat": 4,
 "nbformat_minor": 2
}
