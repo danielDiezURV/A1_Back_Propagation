{
 "cells": [
  {
   "cell_type": "code",
   "execution_count": null,
   "metadata": {},
   "outputs": [],
   "source": [
    "###··· SYNTHETIC DATASET ···### \n",
    "# Part 1: Selecting and analyzing the dataset\n",
    "import pandas as pd\n",
    "from sklearn.preprocessing import StandardScaler\n",
    "from sklearn.preprocessing import MinMaxScaler\n",
    "\n",
    "#Load the dataset\n",
    "synthetic_dataset = pd.read_csv(\"A1-synthetic.txt\", sep='\\t', header=0)\n",
    "x = synthetic_dataset[['#v1', 'v2', 'v3', 'v4', 'v5', 'v6', 'v7', 'v8', 'v9']]\n",
    "y = synthetic_dataset[['z']]\n",
    "#Scale the data\n",
    "scaler = StandardScaler()\n",
    "x_scaled = scaler.fit_transform(x)\n",
    "y_scaled = scaler.fit_transform(y)\n",
    "scaler = MinMaxScaler()\n",
    "x_scaled = scaler.fit_transform(x)\n",
    "y_scaled = scaler.fit_transform(y)\n",
    "validation_percentage=0.2\n"
   ]
  },
  {
   "cell_type": "code",
   "execution_count": null,
   "metadata": {},
   "outputs": [],
   "source": [
    "from matplotlib import pyplot as plt\n",
    "from MyNeuralNetwork import MyNeuralNetwork\n",
    "\n",
    "#Create the neural network and train\n",
    "nn = MyNeuralNetwork(layers=[x_scaled.shape[1],9,5,1], nEpochs=100, learning_rate=0.001, momentum=0.005, activation='relu', validation_set=validation_percentage)\n",
    "nn.fit(x_scaled, y_scaled)\n",
    "\n",
    "# Optional: Plot the evolution of the training and validation errors  \n",
    "(loss, val_loss) = nn.loss_epochs()\n",
    "plt.plot(loss)\n",
    "plt.plot(val_loss)\n",
    "plt.title('Model loss')\n",
    "plt.ylabel('Loss')\n",
    "plt.xlabel('Epoch')\n",
    "plt.legend(['Train', 'Validation'], loc='upper right')\n",
    "plt.show()"
   ]
  },
  {
   "cell_type": "code",
   "execution_count": null,
   "metadata": {},
   "outputs": [],
   "source": [
    "from sklearn.model_selection import train_test_split\n",
    "from sklearn.metrics import *\n",
    "\n",
    "\n",
    "# Part 3: Obtaining predictions\n",
    "x_train, x_test, y_train, y_test = train_test_split(x_scaled, y_scaled, test_size=validation_percentage, shuffle=True)\n",
    "y_pred_test = nn.predict(x_test)\n",
    "y_pred_train = nn.predict(x_train)\n",
    "\n",
    "print(\"---Test---\")\n",
    "print(\"R2 Score: \", r2_score(y_test, y_pred_test))\n",
    "print(\"MSE: \", mean_squared_error(y_test, y_pred_test))\n",
    "print(\"MAE: \", mean_absolute_error(y_test, y_pred_test))\n",
    "print(\"---Train---\")\n",
    "print(\"R2 Score: \", r2_score(y_train, y_pred_train))\n",
    "print(\"MSE: \", mean_squared_error(y_train, y_pred_train))\n",
    "print(\"MAE: \", mean_absolute_error(y_train, y_pred_train))\n",
    "print(\"\")\n",
    "print(\"MAPE: \", mean_absolute_percentage_error(y_test, y_pred_test))\n",
    "\n",
    "y_test_unscaled = scaler.inverse_transform(y_test)\n",
    "y_pred_test_unscaled = scaler.inverse_transform(y_pred_test)\n",
    "y_train_unscaled = scaler.inverse_transform(y_train)\n",
    "y_pred_train_unscaled = scaler.inverse_transform(y_pred_train)\n",
    "\n",
    "plt.scatter(y_train_unscaled, y_pred_train_unscaled, color=\"blue\", label=\"Train\")\n",
    "plt.scatter(y_test_unscaled, y_pred_test_unscaled, color=\"red\", label=\"Test\")\n",
    "plt.xlabel(\"actual Values\")\n",
    "plt.ylabel(\"Predition Values\")\n",
    "plt.title(\"Actual vs Prediction\")\n",
    "plt.plot(y, y, \"--\",color=\"black\")\n",
    "plt.legend()\n",
    "plt.show()"
   ]
  }
 ],
 "metadata": {
  "kernelspec": {
   "display_name": "Python 3",
   "language": "python",
   "name": "python3"
  },
  "language_info": {
   "codemirror_mode": {
    "name": "ipython",
    "version": 3
   },
   "file_extension": ".py",
   "mimetype": "text/x-python",
   "name": "python",
   "nbconvert_exporter": "python",
   "pygments_lexer": "ipython3",
   "version": "3.11.6"
  }
 },
 "nbformat": 4,
 "nbformat_minor": 2
}
